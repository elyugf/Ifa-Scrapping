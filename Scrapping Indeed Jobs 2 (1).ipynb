{
 "cells": [
  {
   "cell_type": "code",
   "execution_count": 1,
   "id": "d0555a12",
   "metadata": {},
   "outputs": [],
   "source": [
    "from selenium import webdriver\n",
    "from selenium.webdriver.chrome.service import Service\n",
    "from selenium.webdriver.common.by import By\n",
    "import pandas as pd\n",
    "\n",
    "\n"
   ]
  },
  {
   "cell_type": "code",
   "execution_count": 2,
   "id": "b531fddd",
   "metadata": {},
   "outputs": [],
   "source": [
    "webdriver_path = \"path/to/chromedriver\""
   ]
  },
  {
   "cell_type": "code",
   "execution_count": 3,
   "id": "a8e2247b",
   "metadata": {},
   "outputs": [],
   "source": [
    "service = Service(webdriver_path)\n",
    "driver = webdriver.Chrome(service=service)\n",
    "\n",
    "URL = \"https://id.indeed.com/m/jobs?q=data%20scientist&1=Indonesia&from=searchOnSerp&sameQ=1\""
   ]
  },
  {
   "cell_type": "code",
   "execution_count": 4,
   "id": "b3cc8e9a",
   "metadata": {},
   "outputs": [],
   "source": [
    "driver.get(URL)"
   ]
  },
  {
   "cell_type": "code",
   "execution_count": 5,
   "id": "154b0b4a",
   "metadata": {},
   "outputs": [],
   "source": [
    "job_titles = []\n",
    "companies = []\n",
    "locations = []"
   ]
  },
  {
   "cell_type": "code",
   "execution_count": 6,
   "id": "a8b93b34",
   "metadata": {},
   "outputs": [],
   "source": [
    "job_entries = driver.find_elements(By.CLASS_NAME, \"jobTitle\")"
   ]
  },
  {
   "cell_type": "code",
   "execution_count": 7,
   "id": "2c5791b5",
   "metadata": {},
   "outputs": [],
   "source": [
    "for entry in job_entries:\n",
    "    job_title = entry.text.strip()\n",
    "    job_titles.append(job_title)\n"
   ]
  },
  {
   "cell_type": "code",
   "execution_count": 8,
   "id": "646d7c7e",
   "metadata": {},
   "outputs": [],
   "source": [
    "company_entries = driver.find_elements(By.CLASS_NAME, \"companyName\")"
   ]
  },
  {
   "cell_type": "code",
   "execution_count": 9,
   "id": "9c4a4d16",
   "metadata": {},
   "outputs": [],
   "source": [
    "for entry in company_entries:\n",
    "    company_name = entry.text.strip()\n",
    "    companies.append(company_name)"
   ]
  },
  {
   "cell_type": "code",
   "execution_count": 10,
   "id": "8c223c42",
   "metadata": {},
   "outputs": [],
   "source": [
    "location_entries = driver.find_elements(By.CLASS_NAME, \"companyLocation\")"
   ]
  },
  {
   "cell_type": "code",
   "execution_count": 11,
   "id": "1c8c8de8",
   "metadata": {},
   "outputs": [],
   "source": [
    "for entry in location_entries:\n",
    "    location = entry.text.strip()\n",
    "    locations.append(location)"
   ]
  },
  {
   "cell_type": "code",
   "execution_count": 12,
   "id": "0a6f2f37",
   "metadata": {},
   "outputs": [],
   "source": [
    "driver.quit()"
   ]
  },
  {
   "cell_type": "code",
   "execution_count": 13,
   "id": "974fa713",
   "metadata": {},
   "outputs": [],
   "source": [
    "data = {\n",
    "    \"Job Title\": job_titles,\n",
    "    \"Company\": companies,\n",
    "    \"Location\": locations\n",
    "}"
   ]
  },
  {
   "cell_type": "code",
   "execution_count": 14,
   "id": "67a26c0f",
   "metadata": {},
   "outputs": [],
   "source": [
    "df = pd.DataFrame(data)"
   ]
  },
  {
   "cell_type": "code",
   "execution_count": 15,
   "id": "63be361f",
   "metadata": {},
   "outputs": [
    {
     "name": "stdout",
     "output_type": "stream",
     "text": [
      "                                Job Title                           Company  \\\n",
      "0                          Data Scientist  PT Neural Technologies Indonesia   \n",
      "1               Data Scientist Specialist           PT. BORWITA CITRA PRIMA   \n",
      "2  SYSTEM ANALYST / SENIOR DATA SCIENTIST                  Kuryo Technology   \n",
      "3              Junior Data Scientist (FT)                      IlmuOne Data   \n",
      "4                          Data Scientist                            TyrAds   \n",
      "\n",
      "   Location  \n",
      "0   Jakarta  \n",
      "1  Sidoarjo  \n",
      "2  Surabaya  \n",
      "3   Jakarta  \n",
      "4  Denpasar  \n"
     ]
    }
   ],
   "source": [
    "print(df.head())"
   ]
  },
  {
   "cell_type": "code",
   "execution_count": 16,
   "id": "6662c752",
   "metadata": {},
   "outputs": [],
   "source": [
    "df.to_excel(\"indeed_job_search_results.xlsx\", index=False)"
   ]
  },
  {
   "cell_type": "code",
   "execution_count": null,
   "id": "6cc2fe98",
   "metadata": {},
   "outputs": [],
   "source": []
  }
 ],
 "metadata": {
  "kernelspec": {
   "display_name": "Python 3 (ipykernel)",
   "language": "python",
   "name": "python3"
  },
  "language_info": {
   "codemirror_mode": {
    "name": "ipython",
    "version": 3
   },
   "file_extension": ".py",
   "mimetype": "text/x-python",
   "name": "python",
   "nbconvert_exporter": "python",
   "pygments_lexer": "ipython3",
   "version": "3.9.12"
  }
 },
 "nbformat": 4,
 "nbformat_minor": 5
}

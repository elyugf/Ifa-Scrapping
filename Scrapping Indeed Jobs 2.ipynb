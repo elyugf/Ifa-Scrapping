{
 "cells": [
  {
   "cell_type": "code",
   "execution_count": 5,
   "id": "d0555a12",
   "metadata": {},
   "outputs": [],
   "source": [
    "from selenium import webdriver\n",
    "from selenium.webdriver.chrome.service import Service\n",
    "from selenium.webdriver.common.by import By\n",
    "import pandas as pd\n",
    "\n",
    "webdriver_path = \"path/to/chromedriver\"\n",
    "\n",
    "service = Service(webdriver_path)\n",
    "driver = webdriver.Chrome(service=service)\n",
    "\n",
    "URL = \"https://id.indeed.com/m/jobs?q=data%20scientist&1=Indonesia&from=searchOnSerp&sameQ=1\"\n",
    "\n",
    "driver.get(URL)\n",
    "\n",
    "job_titles = []\n",
    "companies = []\n",
    "locations = []\n",
    "\n",
    "job_entries = driver.find_elements(By.CLASS_NAME, \"jobTitle\")\n",
    "\n",
    "for entry in job_entries:\n",
    "    job_title = entry.text.strip()\n",
    "    job_titles.append(job_title)\n",
    "\n",
    "\n",
    "company_entries = driver.find_elements(By.CLASS_NAME, \"companyName\")\n",
    "\n",
    "for entry in company_entries:\n",
    "    company_name = entry.text.strip()\n",
    "    companies.append(company_name)\n",
    "\n",
    "location_entries = driver.find_elements(By.CLASS_NAME, \"companyLocation\")\n",
    "\n",
    "for entry in location_entries:\n",
    "    location = entry.text.strip()\n",
    "    locations.append(location)\n",
    "\n",
    "driver.quit()\n",
    "\n",
    "data = {\n",
    "    \"Job Title\": job_titles,\n",
    "    \"Company\": companies,\n",
    "    \"Location\": locations\n",
    "}\n",
    "\n",
    "df = pd.DataFrame(data)\n",
    "\n",
    "df.to_excel(\"indeed_job_search_results.xlsx\", index=False)"
   ]
  },
  {
   "cell_type": "code",
   "execution_count": null,
   "id": "b531fddd",
   "metadata": {},
   "outputs": [],
   "source": []
  }
 ],
 "metadata": {
  "kernelspec": {
   "display_name": "Python 3 (ipykernel)",
   "language": "python",
   "name": "python3"
  },
  "language_info": {
   "codemirror_mode": {
    "name": "ipython",
    "version": 3
   },
   "file_extension": ".py",
   "mimetype": "text/x-python",
   "name": "python",
   "nbconvert_exporter": "python",
   "pygments_lexer": "ipython3",
   "version": "3.9.12"
  }
 },
 "nbformat": 4,
 "nbformat_minor": 5
}
